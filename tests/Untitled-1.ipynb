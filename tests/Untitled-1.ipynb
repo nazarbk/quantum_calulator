{
 "cells": [
  {
   "cell_type": "code",
   "execution_count": null,
   "id": "26d49bd4",
   "metadata": {},
   "outputs": [],
   "source": [
    "from qiskit import *\n",
    "from qiskit_aer import Aer\n",
    "from qiskit.visualization import plot_histogram\n",
    "import matplotlib.pyplot as plt\n",
    "\n",
    "qc = QuantumCircuit(1, 1)\n",
    "\n",
    "qc.h(0)\n",
    "\n",
    "qc.measure(0, 0)\n",
    "\n",
    "simulator = Aer.get_backend('qasm_simulator')\n",
    "qc_transpiled = transpile(qc, simulator)\n",
    "result = simulator.run(qc_transpiled, backend=simulator, shots=1024).result()\n",
    "counts = result.get_counts()\n",
    "\n"
   ]
  }
 ],
 "metadata": {
  "kernelspec": {
   "display_name": "Python 3",
   "language": "python",
   "name": "python3"
  },
  "language_info": {
   "codemirror_mode": {
    "name": "ipython",
    "version": 3
   },
   "file_extension": ".py",
   "mimetype": "text/x-python",
   "name": "python",
   "nbconvert_exporter": "python",
   "pygments_lexer": "ipython3",
   "version": "3.9.21"
  }
 },
 "nbformat": 4,
 "nbformat_minor": 5
}
